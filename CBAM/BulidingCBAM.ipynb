{
 "cells": [
  {
   "cell_type": "code",
   "execution_count": 1,
   "id": "667f4f0e",
   "metadata": {},
   "outputs": [],
   "source": [
    "import numpy as np\n",
    "import pandas as pd\n",
    "import matplotlib.pyplot as plt\n",
    "import torch\n",
    "from torch import nn\n",
    "from torchsummary import summary"
   ]
  },
  {
   "cell_type": "code",
   "execution_count": 2,
   "id": "a653f1c4",
   "metadata": {},
   "outputs": [],
   "source": [
    "\n",
    "class ChannelAttentionModule(nn.Module):\n",
    "    def __init__(self, F, r):\n",
    "        super(ChannelAttentionModule, self).__init__()\n",
    "        self.avg_pool = nn.AvgPool2d(1)  # 1 for Global Average Pooling. Can Use AdaptiveAvgPool2d for variable input sizes\n",
    "        self.max_pool = nn.MaxPool2d(1)  # 1 for Gloabal Max Pooling. Can Use AdaptiveMaxPool2d for variable input sizes\n",
    "        self.fc = nn.Sequential(\n",
    "            nn.Conv2d(F, F // r, kernel_size=1),  # 1x1 convolution to reduce the number of channels\n",
    "            nn.ReLU(),  # ReLU as Activation Function\n",
    "            nn.Conv2d(F // r, F, kernel_size=1)  # 1x1 convolution to restore the original number of channels\n",
    "        )\n",
    "        self.sigmoid = nn.Sigmoid()  # Sigmoid Function\n",
    "\n",
    "    def forward(self, x):\n",
    "        avg_out = self.fc(self.avg_pool(x))\n",
    "        max_out = self.fc(self.max_pool(x))\n",
    "        sum_out = avg_out + max_out #Summation\n",
    "        return self.sigmoid(sum_out)\n"
   ]
  },
  {
   "cell_type": "code",
   "execution_count": 3,
   "id": "fee12034",
   "metadata": {},
   "outputs": [
    {
     "name": "stdout",
     "output_type": "stream",
     "text": [
      "----------------------------------------------------------------\n",
      "        Layer (type)               Output Shape         Param #\n",
      "================================================================\n",
      "         AvgPool2d-1              [-1, 3, 1, 1]               0\n",
      "            Conv2d-2              [-1, 1, 1, 1]               4\n",
      "              ReLU-3              [-1, 1, 1, 1]               0\n",
      "            Conv2d-4              [-1, 3, 1, 1]               6\n",
      "         MaxPool2d-5              [-1, 3, 1, 1]               0\n",
      "            Conv2d-6              [-1, 1, 1, 1]               4\n",
      "              ReLU-7              [-1, 1, 1, 1]               0\n",
      "            Conv2d-8              [-1, 3, 1, 1]               6\n",
      "           Sigmoid-9              [-1, 3, 1, 1]               0\n",
      "================================================================\n",
      "Total params: 20\n",
      "Trainable params: 20\n",
      "Non-trainable params: 0\n",
      "----------------------------------------------------------------\n",
      "Input size (MB): 0.00\n",
      "Forward/backward pass size (MB): 0.00\n",
      "Params size (MB): 0.00\n",
      "Estimated Total Size (MB): 0.00\n",
      "----------------------------------------------------------------\n"
     ]
    }
   ],
   "source": [
    "# Printing ChannelAttentionModule architecture\n",
    "model_CAM = ChannelAttentionModule(F=3, r=3)\n",
    "summary(model_CAM, (3, 1, 1))"
   ]
  },
  {
   "cell_type": "code",
   "execution_count": 4,
   "id": "58b9d9fd",
   "metadata": {},
   "outputs": [],
   "source": [
    "class SpatialAttentionModule(nn.Module):\n",
    "    def __init__(self, kernel_size=7):\n",
    "        super(SpatialAttentionModule, self).__init__()\n",
    "        self.fc = nn.Sequential(\n",
    "            nn.Conv2d(2, 1, kernel_size=7, padding=kernel_size//2)  #Symmetric zero-padding\n",
    "        )\n",
    "        self.sigmoid = nn.Sigmoid() #Sigmoid Function\n",
    "\n",
    "    def forward(self, x):\n",
    "        avg_out = torch.mean(x, dim=1, keepdim=True) #Average across Channel Axis. keepdim retains channel dimensions\n",
    "        max_out, _ = torch.max(x, dim=1, keepdim=True) #Maximum across Channel Axis. keepdim retains channel dimensions\n",
    "        combined_features = torch.cat([avg_out, max_out], dim=1)  #Concatenation\n",
    "        f_out = self.fc(combined_features)\n",
    "        return self.sigmoid(f_out)"
   ]
  },
  {
   "cell_type": "code",
   "execution_count": 5,
   "id": "8718edd1",
   "metadata": {},
   "outputs": [
    {
     "name": "stdout",
     "output_type": "stream",
     "text": [
      "----------------------------------------------------------------\n",
      "        Layer (type)               Output Shape         Param #\n",
      "================================================================\n",
      "            Conv2d-1              [-1, 1, 1, 1]              99\n",
      "           Sigmoid-2              [-1, 1, 1, 1]               0\n",
      "================================================================\n",
      "Total params: 99\n",
      "Trainable params: 99\n",
      "Non-trainable params: 0\n",
      "----------------------------------------------------------------\n",
      "Input size (MB): 0.00\n",
      "Forward/backward pass size (MB): 0.00\n",
      "Params size (MB): 0.00\n",
      "Estimated Total Size (MB): 0.00\n",
      "----------------------------------------------------------------\n"
     ]
    }
   ],
   "source": [
    "# Printing SpatialAttentionModule architecture\n",
    "model_SAM = SpatialAttentionModule(kernel_size=7)\n",
    "summary(model_SAM, (3, 1, 1)) "
   ]
  },
  {
   "cell_type": "code",
   "execution_count": 6,
   "id": "74dce38f",
   "metadata": {},
   "outputs": [],
   "source": [
    "class CBAMModule(nn.Module):\n",
    "    def __init__(self, F, r, spatial_r=7):\n",
    "        super(CBAMModule, self).__init__()\n",
    "        self.channel_attention = ChannelAttentionModule(F, r) #Channel Attention\n",
    "        self.spatial_attention = SpatialAttentionModule(spatial_r) #Spatial Attention\n",
    "    \n",
    "    def forward(self, x):\n",
    "        return self.spatial_attention(self.channel_attention(x)) #Sequential Arrangement"
   ]
  },
  {
   "cell_type": "code",
   "execution_count": 7,
   "id": "47a2b3ef",
   "metadata": {},
   "outputs": [
    {
     "name": "stdout",
     "output_type": "stream",
     "text": [
      "----------------------------------------------------------------\n",
      "        Layer (type)               Output Shape         Param #\n",
      "================================================================\n",
      "         AvgPool2d-1              [-1, 3, 1, 1]               0\n",
      "            Conv2d-2              [-1, 3, 1, 1]              12\n",
      "              ReLU-3              [-1, 3, 1, 1]               0\n",
      "            Conv2d-4              [-1, 3, 1, 1]              12\n",
      "         MaxPool2d-5              [-1, 3, 1, 1]               0\n",
      "            Conv2d-6              [-1, 3, 1, 1]              12\n",
      "              ReLU-7              [-1, 3, 1, 1]               0\n",
      "            Conv2d-8              [-1, 3, 1, 1]              12\n",
      "           Sigmoid-9              [-1, 3, 1, 1]               0\n",
      "ChannelAttentionModule-10              [-1, 3, 1, 1]               0\n",
      "           Conv2d-11              [-1, 1, 1, 1]              99\n",
      "          Sigmoid-12              [-1, 1, 1, 1]               0\n",
      "SpatialAttentionModule-13              [-1, 1, 1, 1]               0\n",
      "================================================================\n",
      "Total params: 147\n",
      "Trainable params: 147\n",
      "Non-trainable params: 0\n",
      "----------------------------------------------------------------\n",
      "Input size (MB): 0.00\n",
      "Forward/backward pass size (MB): 0.00\n",
      "Params size (MB): 0.00\n",
      "Estimated Total Size (MB): 0.00\n",
      "----------------------------------------------------------------\n"
     ]
    }
   ],
   "source": [
    "model_CBAM = CBAMModule(F=3, r=1, spatial_r=7)\n",
    "summary(model_CBAM, (3, 1, 1))"
   ]
  }
 ],
 "metadata": {
  "kernelspec": {
   "display_name": "Python 3 (ipykernel)",
   "language": "python",
   "name": "python3"
  },
  "language_info": {
   "codemirror_mode": {
    "name": "ipython",
    "version": 3
   },
   "file_extension": ".py",
   "mimetype": "text/x-python",
   "name": "python",
   "nbconvert_exporter": "python",
   "pygments_lexer": "ipython3",
   "version": "3.11.5"
  }
 },
 "nbformat": 4,
 "nbformat_minor": 5
}
