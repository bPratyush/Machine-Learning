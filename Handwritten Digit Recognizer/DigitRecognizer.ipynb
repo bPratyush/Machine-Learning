{
 "cells": [
  {
   "cell_type": "code",
   "execution_count": 1,
   "id": "a13fbc12",
   "metadata": {
    "_cell_guid": "b1076dfc-b9ad-4769-8c92-a6c4dae69d19",
    "_uuid": "8f2839f25d086af736a60e9eeb907d3b93b6e0e5",
    "execution": {
     "iopub.execute_input": "2023-10-22T06:40:15.836823Z",
     "iopub.status.busy": "2023-10-22T06:40:15.836117Z",
     "iopub.status.idle": "2023-10-22T06:40:16.266945Z",
     "shell.execute_reply": "2023-10-22T06:40:16.266021Z"
    },
    "papermill": {
     "duration": 0.440528,
     "end_time": "2023-10-22T06:40:16.269468",
     "exception": false,
     "start_time": "2023-10-22T06:40:15.828940",
     "status": "completed"
    },
    "tags": []
   },
   "outputs": [],
   "source": [
    "import numpy as np # linear algebra\n",
    "import pandas as pd # data processing, CSV file I/O (e.g. pd.read_csv)\n",
    "import matplotlib.pyplot as plt"
   ]
  },
  {
   "cell_type": "code",
   "execution_count": 2,
   "id": "b139b4b4",
   "metadata": {
    "execution": {
     "iopub.execute_input": "2023-10-22T06:40:16.283215Z",
     "iopub.status.busy": "2023-10-22T06:40:16.282557Z",
     "iopub.status.idle": "2023-10-22T06:40:20.588654Z",
     "shell.execute_reply": "2023-10-22T06:40:20.587569Z"
    },
    "papermill": {
     "duration": 4.31494,
     "end_time": "2023-10-22T06:40:20.591275",
     "exception": false,
     "start_time": "2023-10-22T06:40:16.276335",
     "status": "completed"
    },
    "tags": []
   },
   "outputs": [],
   "source": [
    "data = pd.read_csv('/kaggle/input/digit-recognizer/train.csv')"
   ]
  },
  {
   "cell_type": "code",
   "execution_count": 3,
   "id": "d521b2ed",
   "metadata": {
    "execution": {
     "iopub.execute_input": "2023-10-22T06:40:20.603066Z",
     "iopub.status.busy": "2023-10-22T06:40:20.602679Z",
     "iopub.status.idle": "2023-10-22T06:40:20.633098Z",
     "shell.execute_reply": "2023-10-22T06:40:20.632209Z"
    },
    "papermill": {
     "duration": 0.040033,
     "end_time": "2023-10-22T06:40:20.636042",
     "exception": false,
     "start_time": "2023-10-22T06:40:20.596009",
     "status": "completed"
    },
    "tags": []
   },
   "outputs": [
    {
     "data": {
      "text/html": [
       "<div>\n",
       "<style scoped>\n",
       "    .dataframe tbody tr th:only-of-type {\n",
       "        vertical-align: middle;\n",
       "    }\n",
       "\n",
       "    .dataframe tbody tr th {\n",
       "        vertical-align: top;\n",
       "    }\n",
       "\n",
       "    .dataframe thead th {\n",
       "        text-align: right;\n",
       "    }\n",
       "</style>\n",
       "<table border=\"1\" class=\"dataframe\">\n",
       "  <thead>\n",
       "    <tr style=\"text-align: right;\">\n",
       "      <th></th>\n",
       "      <th>label</th>\n",
       "      <th>pixel0</th>\n",
       "      <th>pixel1</th>\n",
       "      <th>pixel2</th>\n",
       "      <th>pixel3</th>\n",
       "      <th>pixel4</th>\n",
       "      <th>pixel5</th>\n",
       "      <th>pixel6</th>\n",
       "      <th>pixel7</th>\n",
       "      <th>pixel8</th>\n",
       "      <th>...</th>\n",
       "      <th>pixel774</th>\n",
       "      <th>pixel775</th>\n",
       "      <th>pixel776</th>\n",
       "      <th>pixel777</th>\n",
       "      <th>pixel778</th>\n",
       "      <th>pixel779</th>\n",
       "      <th>pixel780</th>\n",
       "      <th>pixel781</th>\n",
       "      <th>pixel782</th>\n",
       "      <th>pixel783</th>\n",
       "    </tr>\n",
       "  </thead>\n",
       "  <tbody>\n",
       "    <tr>\n",
       "      <th>0</th>\n",
       "      <td>1</td>\n",
       "      <td>0</td>\n",
       "      <td>0</td>\n",
       "      <td>0</td>\n",
       "      <td>0</td>\n",
       "      <td>0</td>\n",
       "      <td>0</td>\n",
       "      <td>0</td>\n",
       "      <td>0</td>\n",
       "      <td>0</td>\n",
       "      <td>...</td>\n",
       "      <td>0</td>\n",
       "      <td>0</td>\n",
       "      <td>0</td>\n",
       "      <td>0</td>\n",
       "      <td>0</td>\n",
       "      <td>0</td>\n",
       "      <td>0</td>\n",
       "      <td>0</td>\n",
       "      <td>0</td>\n",
       "      <td>0</td>\n",
       "    </tr>\n",
       "    <tr>\n",
       "      <th>1</th>\n",
       "      <td>0</td>\n",
       "      <td>0</td>\n",
       "      <td>0</td>\n",
       "      <td>0</td>\n",
       "      <td>0</td>\n",
       "      <td>0</td>\n",
       "      <td>0</td>\n",
       "      <td>0</td>\n",
       "      <td>0</td>\n",
       "      <td>0</td>\n",
       "      <td>...</td>\n",
       "      <td>0</td>\n",
       "      <td>0</td>\n",
       "      <td>0</td>\n",
       "      <td>0</td>\n",
       "      <td>0</td>\n",
       "      <td>0</td>\n",
       "      <td>0</td>\n",
       "      <td>0</td>\n",
       "      <td>0</td>\n",
       "      <td>0</td>\n",
       "    </tr>\n",
       "    <tr>\n",
       "      <th>2</th>\n",
       "      <td>1</td>\n",
       "      <td>0</td>\n",
       "      <td>0</td>\n",
       "      <td>0</td>\n",
       "      <td>0</td>\n",
       "      <td>0</td>\n",
       "      <td>0</td>\n",
       "      <td>0</td>\n",
       "      <td>0</td>\n",
       "      <td>0</td>\n",
       "      <td>...</td>\n",
       "      <td>0</td>\n",
       "      <td>0</td>\n",
       "      <td>0</td>\n",
       "      <td>0</td>\n",
       "      <td>0</td>\n",
       "      <td>0</td>\n",
       "      <td>0</td>\n",
       "      <td>0</td>\n",
       "      <td>0</td>\n",
       "      <td>0</td>\n",
       "    </tr>\n",
       "    <tr>\n",
       "      <th>3</th>\n",
       "      <td>4</td>\n",
       "      <td>0</td>\n",
       "      <td>0</td>\n",
       "      <td>0</td>\n",
       "      <td>0</td>\n",
       "      <td>0</td>\n",
       "      <td>0</td>\n",
       "      <td>0</td>\n",
       "      <td>0</td>\n",
       "      <td>0</td>\n",
       "      <td>...</td>\n",
       "      <td>0</td>\n",
       "      <td>0</td>\n",
       "      <td>0</td>\n",
       "      <td>0</td>\n",
       "      <td>0</td>\n",
       "      <td>0</td>\n",
       "      <td>0</td>\n",
       "      <td>0</td>\n",
       "      <td>0</td>\n",
       "      <td>0</td>\n",
       "    </tr>\n",
       "    <tr>\n",
       "      <th>4</th>\n",
       "      <td>0</td>\n",
       "      <td>0</td>\n",
       "      <td>0</td>\n",
       "      <td>0</td>\n",
       "      <td>0</td>\n",
       "      <td>0</td>\n",
       "      <td>0</td>\n",
       "      <td>0</td>\n",
       "      <td>0</td>\n",
       "      <td>0</td>\n",
       "      <td>...</td>\n",
       "      <td>0</td>\n",
       "      <td>0</td>\n",
       "      <td>0</td>\n",
       "      <td>0</td>\n",
       "      <td>0</td>\n",
       "      <td>0</td>\n",
       "      <td>0</td>\n",
       "      <td>0</td>\n",
       "      <td>0</td>\n",
       "      <td>0</td>\n",
       "    </tr>\n",
       "  </tbody>\n",
       "</table>\n",
       "<p>5 rows × 785 columns</p>\n",
       "</div>"
      ],
      "text/plain": [
       "   label  pixel0  pixel1  pixel2  pixel3  pixel4  pixel5  pixel6  pixel7  \\\n",
       "0      1       0       0       0       0       0       0       0       0   \n",
       "1      0       0       0       0       0       0       0       0       0   \n",
       "2      1       0       0       0       0       0       0       0       0   \n",
       "3      4       0       0       0       0       0       0       0       0   \n",
       "4      0       0       0       0       0       0       0       0       0   \n",
       "\n",
       "   pixel8  ...  pixel774  pixel775  pixel776  pixel777  pixel778  pixel779  \\\n",
       "0       0  ...         0         0         0         0         0         0   \n",
       "1       0  ...         0         0         0         0         0         0   \n",
       "2       0  ...         0         0         0         0         0         0   \n",
       "3       0  ...         0         0         0         0         0         0   \n",
       "4       0  ...         0         0         0         0         0         0   \n",
       "\n",
       "   pixel780  pixel781  pixel782  pixel783  \n",
       "0         0         0         0         0  \n",
       "1         0         0         0         0  \n",
       "2         0         0         0         0  \n",
       "3         0         0         0         0  \n",
       "4         0         0         0         0  \n",
       "\n",
       "[5 rows x 785 columns]"
      ]
     },
     "execution_count": 3,
     "metadata": {},
     "output_type": "execute_result"
    }
   ],
   "source": [
    "data.head()"
   ]
  },
  {
   "cell_type": "code",
   "execution_count": 4,
   "id": "6573f54b",
   "metadata": {
    "execution": {
     "iopub.execute_input": "2023-10-22T06:40:20.648848Z",
     "iopub.status.busy": "2023-10-22T06:40:20.647812Z",
     "iopub.status.idle": "2023-10-22T06:40:21.497786Z",
     "shell.execute_reply": "2023-10-22T06:40:21.496165Z"
    },
    "papermill": {
     "duration": 0.859791,
     "end_time": "2023-10-22T06:40:21.500875",
     "exception": false,
     "start_time": "2023-10-22T06:40:20.641084",
     "status": "completed"
    },
    "tags": []
   },
   "outputs": [],
   "source": [
    "data=np.array(data)\n",
    "m,n=data.shape #extracts the dimensions of the data array\n",
    "np.random.shuffle(data) #Randomizing Order of Data\n",
    "#Testing Data\n",
    "data_dev=data[0:1000].T\n",
    "y_dev = data_dev[0]\n",
    "x_dev = data_dev[1:n]\n",
    "x_dev = x_dev/255\n",
    "#Training Data\n",
    "data_train = data[1000:m].T #Transpose ensure that the rows of the transposed array still represent individual data points, and the columns represent the features\n",
    "y_train = data_train[0]\n",
    "x_train = data_train[1:n]\n",
    "x_train = x_train/255\n",
    "_,m_train = x_train.shape"
   ]
  },
  {
   "cell_type": "code",
   "execution_count": 5,
   "id": "73f79e90",
   "metadata": {
    "execution": {
     "iopub.execute_input": "2023-10-22T06:40:21.514290Z",
     "iopub.status.busy": "2023-10-22T06:40:21.513893Z",
     "iopub.status.idle": "2023-10-22T06:40:21.521732Z",
     "shell.execute_reply": "2023-10-22T06:40:21.520578Z"
    },
    "papermill": {
     "duration": 0.017544,
     "end_time": "2023-10-22T06:40:21.524535",
     "exception": false,
     "start_time": "2023-10-22T06:40:21.506991",
     "status": "completed"
    },
    "tags": []
   },
   "outputs": [
    {
     "data": {
      "text/plain": [
       "array([6, 3, 2, ..., 4, 5, 5])"
      ]
     },
     "execution_count": 5,
     "metadata": {},
     "output_type": "execute_result"
    }
   ],
   "source": [
    "y_train"
   ]
  },
  {
   "cell_type": "code",
   "execution_count": 6,
   "id": "5bb1d912",
   "metadata": {
    "execution": {
     "iopub.execute_input": "2023-10-22T06:40:21.537074Z",
     "iopub.status.busy": "2023-10-22T06:40:21.536690Z",
     "iopub.status.idle": "2023-10-22T06:40:21.553173Z",
     "shell.execute_reply": "2023-10-22T06:40:21.551940Z"
    },
    "papermill": {
     "duration": 0.025987,
     "end_time": "2023-10-22T06:40:21.555763",
     "exception": false,
     "start_time": "2023-10-22T06:40:21.529776",
     "status": "completed"
    },
    "tags": []
   },
   "outputs": [],
   "source": [
    "def init_params():\n",
    "    w1 = np.random.rand(10,784) - 0.5 #represent the weights of the first layer of a neural network with 10 neurons and 784 input features\n",
    "    b1 = np.random.rand(10,1) - 0.5 #represent the biases of the first layer of a neural network with 10 neurons and 784 input features\n",
    "    w2 = np.random.rand(10,10) - 0.5 #represent the weights of the second layer of a neural network with 10 neurons and 10 input features\n",
    "    b2 = np.random.rand(10,1) - 0.5 ##represent the biases of the second layer of a neural network with 10 neurons and 10 input features\n",
    "    return w1, b1, w2, b2\n",
    "\n",
    "def relu(x):\n",
    "    return np.maximum(0,x) #Created RELU Function\n",
    "\n",
    "def softmax(x):\n",
    "    a = np.exp(x)/sum(np.exp(x))\n",
    "    return a #Created Softmax Function\n",
    "    \n",
    "def forward_prop(w1,b1,w2,b2,x): #Forward Propogation through the layers\n",
    "    z1 = w1.dot(x) + b1\n",
    "    a1=relu(z1)\n",
    "    z2=w2.dot(a1)+b2\n",
    "    a2=softmax(z2)\n",
    "    return z1,a1,z2,a2\n",
    "\n",
    "def one_hot(y): #One Hot Encoding : Converting Categorical Data to Numerical Learning Data\n",
    "    one_hot_y = np.zeros((y.size,y.max()+1)) #initializes an array of zeros with dimensions - number of samples, classes\n",
    "    one_hot_y[np.arange(y.size),y] = 1 #Sets one_hot_y to 1 at the positions specified by the original target labels\n",
    "    one_hot_y = one_hot_y.T #Transposing so that column is example (and not rows)\n",
    "    return one_hot_y\n",
    "\n",
    "def deriv_relu(z): #Derivative of RELU Function\n",
    "    return z>0\n",
    "\n",
    "def back_prop(z1,a1,z2,a2,w2,x,y): #Backward Propogation\n",
    "    one_hot_y = one_hot(y) #Convert Target Label vectors to One Hot Encoded vectors\n",
    "    dz2 = a2 - one_hot_y #computes the derivative of the loss with respect to the pre-activation values in the last layer\n",
    "    dw2 = 1/m*dz2.dot(a1.T) #computes the gradient of the loss with respect to the weights of the second layer\n",
    "    db2 = 1/m*np.sum(dz2) #computes the gradient of the loss with respect to the biases of the second layer\n",
    "    dz1 = w2.T.dot(dz2) * deriv_relu(z1) #computes the derivative of the loss with respect to the pre-activation values in the first layer\n",
    "    dw1 = 1/m*dz1.dot(x.T) #computes the gradient of the loss with respect to the weights of the first layer\n",
    "    db1 = 1/m*np.sum(dz1) #computes the gradient of the loss with respect to the biases of the first layer\n",
    "    return dw1, db1, dw2, db2\n",
    "\n",
    "def update_params(w1, b1, w2, b2, dw1, db1, dw2, db2, alpha): #Updating Weights and Biases during Training\n",
    "    w1 = w1 - alpha * dw1\n",
    "    b1 = b1 - alpha * db1\n",
    "    w2 = w2 - alpha * dw2\n",
    "    b2 = b2 - alpha * db2\n",
    "    return w1, b1, w2, b2\n",
    "\n",
    "def get_pred(a2): #Getting Predictions from the Output\n",
    "    return np.argmax(a2, 0) #Find the index of the maximum value along the first axis\n",
    "\n",
    "def get_accuracy(pred, y): #Getting Accuracy of Model's Predictions\n",
    "    print(pred,y)\n",
    "    return np.sum(pred == y) / y.size"
   ]
  },
  {
   "cell_type": "code",
   "execution_count": 7,
   "id": "3cda945e",
   "metadata": {
    "execution": {
     "iopub.execute_input": "2023-10-22T06:40:21.568873Z",
     "iopub.status.busy": "2023-10-22T06:40:21.568084Z",
     "iopub.status.idle": "2023-10-22T06:40:21.576720Z",
     "shell.execute_reply": "2023-10-22T06:40:21.575604Z"
    },
    "papermill": {
     "duration": 0.017931,
     "end_time": "2023-10-22T06:40:21.579247",
     "exception": false,
     "start_time": "2023-10-22T06:40:21.561316",
     "status": "completed"
    },
    "tags": []
   },
   "outputs": [],
   "source": [
    "def grad_desc(x,y,epochs,alpha): #Gradient Descent\n",
    "    w1,b1,w2,b2 = init_params() #Initialising Parameters\n",
    "    for i in range(epochs): #Iterating over epochs\n",
    "        z1,a1,z2,a2 = forward_prop(w1,b1,w2,b2,x) #Forward Propogation\n",
    "        dw1,db1,dw2,db2 = back_prop(z1,a1,z2,a2,w2,x,y) #Backward Propogation\n",
    "        w1,b1,w2,b2 = update_params(w1,b1,w2,b2,dw1,db1,dw2,db2, alpha) #Updating Parameters\n",
    "        if i%10 == 0:\n",
    "            print(\"Epoch: \",i)\n",
    "            print(\"Accuracy: \", get_accuracy(get_pred(a2),y))\n",
    "    return w1,b1,w2,b2"
   ]
  },
  {
   "cell_type": "code",
   "execution_count": 8,
   "id": "f128bdab",
   "metadata": {
    "execution": {
     "iopub.execute_input": "2023-10-22T06:40:21.591441Z",
     "iopub.status.busy": "2023-10-22T06:40:21.591015Z",
     "iopub.status.idle": "2023-10-22T06:41:37.717465Z",
     "shell.execute_reply": "2023-10-22T06:41:37.715827Z"
    },
    "papermill": {
     "duration": 76.137191,
     "end_time": "2023-10-22T06:41:37.721788",
     "exception": false,
     "start_time": "2023-10-22T06:40:21.584597",
     "status": "completed"
    },
    "tags": []
   },
   "outputs": [
    {
     "name": "stdout",
     "output_type": "stream",
     "text": [
      "Epoch:  0\n",
      "[1 2 7 ... 1 1 1] [6 3 2 ... 4 5 5]\n",
      "Accuracy:  0.06792682926829269\n",
      "Epoch:  10\n",
      "[6 4 7 ... 9 0 0] [6 3 2 ... 4 5 5]\n",
      "Accuracy:  0.1999268292682927\n",
      "Epoch:  20\n",
      "[6 1 7 ... 4 0 0] [6 3 2 ... 4 5 5]\n",
      "Accuracy:  0.327\n",
      "Epoch:  30\n",
      "[6 1 7 ... 4 0 0] [6 3 2 ... 4 5 5]\n",
      "Accuracy:  0.4099024390243902\n",
      "Epoch:  40\n",
      "[6 1 7 ... 4 3 0] [6 3 2 ... 4 5 5]\n",
      "Accuracy:  0.4881219512195122\n",
      "Epoch:  50\n",
      "[6 1 7 ... 4 8 0] [6 3 2 ... 4 5 5]\n",
      "Accuracy:  0.5475121951219513\n",
      "Epoch:  60\n",
      "[6 1 8 ... 4 8 0] [6 3 2 ... 4 5 5]\n",
      "Accuracy:  0.5927317073170731\n",
      "Epoch:  70\n",
      "[6 1 8 ... 4 8 0] [6 3 2 ... 4 5 5]\n",
      "Accuracy:  0.6255365853658537\n",
      "Epoch:  80\n",
      "[6 1 8 ... 4 8 0] [6 3 2 ... 4 5 5]\n",
      "Accuracy:  0.6520975609756098\n",
      "Epoch:  90\n",
      "[6 1 8 ... 4 8 0] [6 3 2 ... 4 5 5]\n",
      "Accuracy:  0.6718780487804878\n",
      "Epoch:  100\n",
      "[6 1 8 ... 4 5 0] [6 3 2 ... 4 5 5]\n",
      "Accuracy:  0.6899024390243902\n",
      "Epoch:  110\n",
      "[6 1 8 ... 4 5 0] [6 3 2 ... 4 5 5]\n",
      "Accuracy:  0.7046341463414634\n",
      "Epoch:  120\n",
      "[6 1 8 ... 4 5 0] [6 3 2 ... 4 5 5]\n",
      "Accuracy:  0.7172682926829268\n",
      "Epoch:  130\n",
      "[6 3 8 ... 4 5 0] [6 3 2 ... 4 5 5]\n",
      "Accuracy:  0.7296829268292683\n",
      "Epoch:  140\n",
      "[6 3 8 ... 4 5 0] [6 3 2 ... 4 5 5]\n",
      "Accuracy:  0.7400975609756097\n",
      "Epoch:  150\n",
      "[6 3 8 ... 4 5 0] [6 3 2 ... 4 5 5]\n",
      "Accuracy:  0.7499268292682927\n",
      "Epoch:  160\n",
      "[6 3 8 ... 4 5 0] [6 3 2 ... 4 5 5]\n",
      "Accuracy:  0.7587560975609756\n",
      "Epoch:  170\n",
      "[6 3 8 ... 4 5 0] [6 3 2 ... 4 5 5]\n",
      "Accuracy:  0.7665609756097561\n",
      "Epoch:  180\n",
      "[6 3 8 ... 4 5 0] [6 3 2 ... 4 5 5]\n",
      "Accuracy:  0.7734634146341464\n",
      "Epoch:  190\n",
      "[6 3 8 ... 4 5 0] [6 3 2 ... 4 5 5]\n",
      "Accuracy:  0.7797317073170732\n",
      "Epoch:  200\n",
      "[6 3 8 ... 4 5 0] [6 3 2 ... 4 5 5]\n",
      "Accuracy:  0.7863414634146342\n",
      "Epoch:  210\n",
      "[6 3 8 ... 4 5 0] [6 3 2 ... 4 5 5]\n",
      "Accuracy:  0.7920975609756098\n",
      "Epoch:  220\n",
      "[6 3 8 ... 4 5 0] [6 3 2 ... 4 5 5]\n",
      "Accuracy:  0.7973658536585366\n",
      "Epoch:  230\n",
      "[6 3 8 ... 4 5 0] [6 3 2 ... 4 5 5]\n",
      "Accuracy:  0.8017560975609757\n",
      "Epoch:  240\n",
      "[6 3 8 ... 4 5 0] [6 3 2 ... 4 5 5]\n",
      "Accuracy:  0.8062439024390244\n",
      "Epoch:  250\n",
      "[6 3 8 ... 4 5 0] [6 3 2 ... 4 5 5]\n",
      "Accuracy:  0.8099512195121952\n",
      "Epoch:  260\n",
      "[6 3 8 ... 4 5 0] [6 3 2 ... 4 5 5]\n",
      "Accuracy:  0.8140975609756097\n",
      "Epoch:  270\n",
      "[6 3 8 ... 4 5 0] [6 3 2 ... 4 5 5]\n",
      "Accuracy:  0.8170731707317073\n",
      "Epoch:  280\n",
      "[6 3 8 ... 4 5 0] [6 3 2 ... 4 5 5]\n",
      "Accuracy:  0.8200975609756097\n",
      "Epoch:  290\n",
      "[6 3 8 ... 4 5 0] [6 3 2 ... 4 5 5]\n",
      "Accuracy:  0.822780487804878\n",
      "Epoch:  300\n",
      "[6 3 8 ... 4 5 0] [6 3 2 ... 4 5 5]\n",
      "Accuracy:  0.8258048780487804\n",
      "Epoch:  310\n",
      "[6 3 8 ... 4 5 0] [6 3 2 ... 4 5 5]\n",
      "Accuracy:  0.8288780487804878\n",
      "Epoch:  320\n",
      "[6 3 8 ... 4 5 0] [6 3 2 ... 4 5 5]\n",
      "Accuracy:  0.8312439024390244\n",
      "Epoch:  330\n",
      "[6 3 8 ... 4 5 0] [6 3 2 ... 4 5 5]\n",
      "Accuracy:  0.8336829268292683\n",
      "Epoch:  340\n",
      "[6 3 8 ... 4 5 0] [6 3 2 ... 4 5 5]\n",
      "Accuracy:  0.8356097560975609\n",
      "Epoch:  350\n",
      "[6 3 8 ... 4 5 0] [6 3 2 ... 4 5 5]\n",
      "Accuracy:  0.8375853658536585\n",
      "Epoch:  360\n",
      "[6 3 8 ... 4 5 0] [6 3 2 ... 4 5 5]\n",
      "Accuracy:  0.8395121951219512\n",
      "Epoch:  370\n",
      "[6 3 8 ... 4 5 0] [6 3 2 ... 4 5 5]\n",
      "Accuracy:  0.8411951219512195\n",
      "Epoch:  380\n",
      "[6 3 8 ... 4 5 0] [6 3 2 ... 4 5 5]\n",
      "Accuracy:  0.8426341463414634\n",
      "Epoch:  390\n",
      "[6 3 8 ... 4 5 0] [6 3 2 ... 4 5 5]\n",
      "Accuracy:  0.8440487804878049\n",
      "Epoch:  400\n",
      "[6 3 8 ... 4 5 0] [6 3 2 ... 4 5 5]\n",
      "Accuracy:  0.8457560975609756\n",
      "Epoch:  410\n",
      "[6 3 8 ... 4 5 0] [6 3 2 ... 4 5 5]\n",
      "Accuracy:  0.8471951219512195\n",
      "Epoch:  420\n",
      "[6 3 8 ... 4 5 0] [6 3 2 ... 4 5 5]\n",
      "Accuracy:  0.8485853658536585\n",
      "Epoch:  430\n",
      "[6 3 8 ... 4 5 0] [6 3 2 ... 4 5 5]\n",
      "Accuracy:  0.849780487804878\n",
      "Epoch:  440\n",
      "[6 3 8 ... 4 5 0] [6 3 2 ... 4 5 5]\n",
      "Accuracy:  0.8509756097560975\n",
      "Epoch:  450\n",
      "[6 3 8 ... 4 5 0] [6 3 2 ... 4 5 5]\n",
      "Accuracy:  0.8519268292682927\n",
      "Epoch:  460\n",
      "[6 3 8 ... 4 5 0] [6 3 2 ... 4 5 5]\n",
      "Accuracy:  0.8526341463414634\n",
      "Epoch:  470\n",
      "[6 3 8 ... 4 5 0] [6 3 2 ... 4 5 5]\n",
      "Accuracy:  0.8535365853658536\n",
      "Epoch:  480\n",
      "[6 3 8 ... 4 5 0] [6 3 2 ... 4 5 5]\n",
      "Accuracy:  0.8544878048780488\n",
      "Epoch:  490\n",
      "[6 3 8 ... 4 5 0] [6 3 2 ... 4 5 5]\n",
      "Accuracy:  0.8555609756097561\n"
     ]
    }
   ],
   "source": [
    "w1,b1,w2,b2=grad_desc(x_train,y_train,500,0.12)"
   ]
  },
  {
   "cell_type": "code",
   "execution_count": 9,
   "id": "18603a5f",
   "metadata": {
    "execution": {
     "iopub.execute_input": "2023-10-22T06:41:37.768668Z",
     "iopub.status.busy": "2023-10-22T06:41:37.767902Z",
     "iopub.status.idle": "2023-10-22T06:41:37.787674Z",
     "shell.execute_reply": "2023-10-22T06:41:37.786010Z"
    },
    "papermill": {
     "duration": 0.048457,
     "end_time": "2023-10-22T06:41:37.792897",
     "exception": false,
     "start_time": "2023-10-22T06:41:37.744440",
     "status": "completed"
    },
    "tags": []
   },
   "outputs": [],
   "source": [
    "def make_predictions(x, w1, b1, w2, b2): #Making Predictions\n",
    "    _, _, _, a2 = forward_prop(w1, b1, w2, b2, x)\n",
    "    predictions = get_pred(a2)\n",
    "    return predictions\n",
    "\n",
    "def test_prediction(index, w1, b1, w2, b2): #Testing Predictions\n",
    "    current_image = x_train[:, index, None]\n",
    "    prediction = make_predictions(x_train[:, index, None], w1, b1, w2, b2)\n",
    "    label = y_train[index]\n",
    "    print(\"Prediction: \", prediction)\n",
    "    print(\"Label: \", label)\n",
    "    \n",
    "    current_image = current_image.reshape((28, 28)) * 255\n",
    "    plt.gray()\n",
    "    plt.imshow(current_image, interpolation='nearest')\n",
    "    plt.show()"
   ]
  },
  {
   "cell_type": "code",
   "execution_count": 10,
   "id": "33663aa5",
   "metadata": {
    "execution": {
     "iopub.execute_input": "2023-10-22T06:41:37.836932Z",
     "iopub.status.busy": "2023-10-22T06:41:37.836456Z",
     "iopub.status.idle": "2023-10-22T06:41:39.113747Z",
     "shell.execute_reply": "2023-10-22T06:41:39.112423Z"
    },
    "papermill": {
     "duration": 1.301626,
     "end_time": "2023-10-22T06:41:39.116398",
     "exception": false,
     "start_time": "2023-10-22T06:41:37.814772",
     "status": "completed"
    },
    "tags": []
   },
   "outputs": [
    {
     "name": "stdout",
     "output_type": "stream",
     "text": [
      "Prediction:  [6]\n",
      "Label:  6\n"
     ]
    },
    {
     "data": {
      "image/png": "[encoded data removed]",
      "text/plain": [
       "<Figure size 640x480 with 1 Axes>"
      ]
     },
     "metadata": {},
     "output_type": "display_data"
    },
    {
     "name": "stdout",
     "output_type": "stream",
     "text": [
      "Prediction:  [3]\n",
      "Label:  3\n"
     ]
    },
    {
     "data": {
      "image/png": "[encoded data removed]",
      "text/plain": [
       "<Figure size 640x480 with 1 Axes>"
      ]
     },
     "metadata": {},
     "output_type": "display_data"
    },
    {
     "name": "stdout",
     "output_type": "stream",
     "text": [
      "Prediction:  [8]\n",
      "Label:  2\n"
     ]
    },
    {
     "data": {
      "image/png": "[encoded data removed]",
      "text/plain": [
       "<Figure size 640x480 with 1 Axes>"
      ]
     },
     "metadata": {},
     "output_type": "display_data"
    },
    {
     "name": "stdout",
     "output_type": "stream",
     "text": [
      "Prediction:  [8]\n",
      "Label:  3\n"
     ]
    },
    {
     "data": {
      "image/png": "[encoded data removed]",
      "text/plain": [
       "<Figure size 640x480 with 1 Axes>"
      ]
     },
     "metadata": {},
     "output_type": "display_data"
    },
    {
     "name": "stdout",
     "output_type": "stream",
     "text": [
      "Prediction:  [2]\n",
      "Label:  2\n"
     ]
    },
    {
     "data": {
      "image/png": "[encoded data removed]",
      "text/plain": [
       "<Figure size 640x480 with 1 Axes>"
      ]
     },
     "metadata": {},
     "output_type": "display_data"
    }
   ],
   "source": [
    "#Some Test Examples\n",
    "test_prediction(0, w1, b1, w2, b2)\n",
    "test_prediction(1, w1, b1, w2, b2)\n",
    "test_prediction(2, w1, b1, w2, b2)\n",
    "test_prediction(3, w1, b1, w2, b2)\n",
    "test_prediction(4, w1, b1, w2, b2)"
   ]
  },
  {
   "cell_type": "code",
   "execution_count": 11,
   "id": "d43eda51",
   "metadata": {
    "execution": {
     "iopub.execute_input": "2023-10-22T06:41:39.142227Z",
     "iopub.status.busy": "2023-10-22T06:41:39.141335Z",
     "iopub.status.idle": "2023-10-22T06:41:39.172534Z",
     "shell.execute_reply": "2023-10-22T06:41:39.171017Z"
    },
    "papermill": {
     "duration": 0.051207,
     "end_time": "2023-10-22T06:41:39.179524",
     "exception": false,
     "start_time": "2023-10-22T06:41:39.128317",
     "status": "completed"
    },
    "tags": []
   },
   "outputs": [
    {
     "name": "stdout",
     "output_type": "stream",
     "text": [
      "[1 7 3 0 5 7 6 8 0 2 9 1 0 2 3 4 2 5 2 0 0 1 5 1 8 5 2 3 8 8 7 6 7 2 9 2 2\n",
      " 9 2 2 1 9 0 7 3 1 1 8 2 2 9 9 7 8 2 1 6 9 8 7 7 4 0 2 5 0 9 6 4 7 1 8 6 4\n",
      " 4 6 3 3 8 4 7 4 3 7 8 9 9 2 4 1 9 3 8 0 4 9 4 6 5 5 9 4 8 5 1 6 4 8 8 7 4\n",
      " 1 1 4 8 1 4 2 3 4 8 0 7 8 4 6 5 9 5 4 9 7 6 2 7 0 3 5 6 0 6 7 3 7 1 4 3 9\n",
      " 7 3 3 6 0 2 7 7 5 6 6 0 8 7 1 3 1 2 7 2 1 8 6 5 5 0 8 1 0 3 1 5 3 9 7 6 4\n",
      " 7 0 3 2 6 0 6 6 0 6 8 0 4 3 6 7 0 9 2 2 8 4 9 8 3 1 3 6 3 6 8 3 1 0 9 3 9\n",
      " 4 9 2 1 0 0 7 8 6 0 4 8 1 9 3 9 1 7 3 8 9 7 4 2 2 1 9 0 1 0 0 3 8 6 4 6 6\n",
      " 4 3 1 1 5 3 6 9 9 5 0 0 3 1 2 1 0 2 2 0 8 6 2 2 9 6 2 8 5 1 3 8 9 1 2 9 2\n",
      " 5 9 9 5 9 0 8 7 2 5 1 4 7 8 6 0 8 4 4 3 0 2 7 9 6 7 9 2 3 3 1 1 4 8 3 6 7\n",
      " 0 4 3 0 2 9 9 4 6 9 9 3 0 4 1 1 9 6 2 6 0 6 3 3 6 7 5 0 4 9 8 6 9 1 1 4 3\n",
      " 5 4 2 0 5 5 1 6 2 2 2 5 3 7 2 8 8 1 2 7 1 3 0 7 2 2 6 7 1 8 1 5 0 4 3 6 3\n",
      " 6 6 7 4 6 7 4 8 3 2 8 4 4 9 2 4 7 8 3 5 0 1 7 3 7 7 6 2 5 1 0 7 4 3 3 7 2\n",
      " 1 4 4 2 8 5 1 9 5 7 4 4 8 9 7 1 5 7 1 3 1 2 7 7 9 2 4 0 7 4 8 4 6 9 2 2 3\n",
      " 1 2 8 2 6 7 7 9 0 7 8 3 1 6 3 5 9 2 8 2 9 7 5 2 9 0 0 2 1 1 6 8 0 6 1 0 5\n",
      " 4 9 6 3 2 5 5 1 6 0 6 0 8 8 2 8 7 2 7 5 6 4 0 0 7 9 7 8 1 5 9 9 2 6 2 6 8\n",
      " 1 9 3 7 7 6 3 4 2 0 4 2 1 5 9 7 6 6 2 2 8 6 6 9 9 2 6 6 8 5 7 0 4 4 9 3 2\n",
      " 3 9 4 1 9 6 3 4 1 5 4 0 0 0 1 6 7 4 3 7 4 4 3 5 0 6 8 7 9 1 8 7 5 0 1 9 1\n",
      " 9 8 8 5 2 9 8 8 5 2 8 3 9 2 0 1 0 4 5 6 6 7 4 1 6 6 8 9 7 8 6 3 8 1 9 1 8\n",
      " 7 5 8 7 1 4 4 2 2 9 1 0 2 3 4 4 9 1 3 4 4 8 2 3 0 0 8 5 2 8 6 9 3 7 7 3 8\n",
      " 9 2 6 8 1 0 8 1 4 8 6 6 7 5 9 7 0 0 1 1 3 4 6 1 9 4 2 0 3 9 2 4 9 6 1 4 5\n",
      " 8 2 5 8 1 8 7 2 2 6 7 1 2 8 5 0 5 4 6 1 8 0 4 6 6 3 5 5 3 1 8 1 9 2 0 4 6\n",
      " 7 0 9 9 3 8 2 0 8 6 3 9 3 5 1 3 9 8 4 9 4 2 2 0 3 2 7 8 4 9 0 7 1 3 7 9 9\n",
      " 0 3 4 8 4 7 5 8 1 3 9 2 1 6 8 0 3 2 6 2 2 4 3 7 6 4 6 0 1 0 3 7 6 3 2 1 8\n",
      " 5 1 2 6 7 4 5 0 2 0 0 9 7 3 1 4 9 6 2 9 4 9 0 8 4 6 1 2 3 4 1 8 3 1 2 4 6\n",
      " 8 0 6 2 7 4 8 2 2 7 7 9 2 1 6 6 5 4 0 8 4 4 1 4 6 9 0 1 7 7 2 0 3 6 3 4 2\n",
      " 7 2 0 4 7 8 4 3 9 4 8 4 9 0 3 6 3 2 2 5 1 6 3 2 9 7 5 5 4 4 5 6 0 9 6 2 4\n",
      " 0 6 0 6 2 6 4 3 8 1 0 4 8 3 8 8 3 1 9 2 7 8 8 0 3 0 6 0 6 1 0 9 8 0 6 6 6\n",
      " 2] [1 7 3 0 5 7 6 8 2 7 9 1 6 2 3 4 2 0 2 0 0 1 5 1 8 3 2 5 8 8 7 6 7 2 9 2 2\n",
      " 9 2 1 1 9 0 7 3 1 1 8 2 2 9 7 7 8 2 1 6 9 8 7 7 4 0 2 8 0 2 6 2 3 1 8 6 4\n",
      " 4 6 3 3 8 9 7 4 3 7 2 9 8 2 4 1 7 8 8 0 4 9 4 6 5 5 9 4 8 5 1 6 4 8 8 7 4\n",
      " 1 1 4 8 1 4 2 3 4 5 0 7 8 4 6 8 9 5 4 7 7 6 8 9 0 3 5 6 0 2 7 3 7 8 4 2 9\n",
      " 7 3 3 2 0 2 7 7 8 6 6 9 8 9 1 3 1 2 7 3 1 5 6 5 5 0 8 8 0 3 1 5 3 9 7 6 4\n",
      " 7 0 3 2 6 0 6 6 0 5 8 0 4 3 6 7 0 4 2 2 5 4 4 8 3 1 3 6 3 2 8 3 1 0 9 3 9\n",
      " 5 9 2 1 0 0 7 8 6 0 4 8 1 9 5 9 1 7 8 8 9 7 4 2 2 2 9 0 1 0 0 3 8 6 4 6 6\n",
      " 4 3 1 1 5 8 6 9 9 5 0 0 3 1 2 1 0 5 2 0 4 6 2 2 9 6 2 8 5 1 3 8 9 1 2 9 2\n",
      " 5 9 9 0 9 0 8 7 2 5 1 8 7 8 6 0 8 4 4 3 0 2 7 9 6 7 9 2 3 3 3 1 4 8 3 6 7\n",
      " 0 4 2 9 2 9 9 9 6 9 9 3 0 4 1 1 9 6 2 6 0 6 3 5 6 7 5 0 4 9 8 4 4 1 1 4 3\n",
      " 5 4 2 0 3 5 1 6 2 2 2 5 3 7 2 6 8 7 2 7 1 3 0 7 2 2 8 7 7 8 1 5 0 4 3 6 5\n",
      " 6 6 7 4 6 7 4 8 3 2 0 4 4 4 2 4 7 5 3 5 0 1 7 3 7 7 6 2 5 8 0 7 4 3 3 7 2\n",
      " 1 4 4 2 8 5 1 9 5 7 4 4 8 9 7 4 5 7 1 3 1 7 7 9 9 2 4 0 7 4 8 4 6 7 2 7 3\n",
      " 1 2 5 2 6 7 7 9 0 7 8 3 3 6 3 5 2 2 8 2 9 7 5 2 7 0 0 2 1 1 6 8 0 6 8 0 5\n",
      " 4 9 6 3 2 5 8 1 6 0 2 0 8 8 2 8 3 2 7 5 6 4 0 0 7 9 9 8 1 5 9 9 2 6 8 6 8\n",
      " 1 4 3 7 7 2 3 7 2 0 2 3 1 5 9 7 6 6 2 2 8 6 5 9 9 6 6 6 8 8 7 0 4 4 9 3 2\n",
      " 3 9 2 1 9 6 3 4 1 5 4 0 0 0 1 6 7 4 3 7 4 4 3 5 0 6 8 7 9 1 8 7 5 0 1 9 1\n",
      " 9 8 8 3 2 9 8 8 5 2 8 3 9 8 0 1 0 4 5 6 6 9 2 1 6 6 2 9 7 5 6 3 8 1 9 1 8\n",
      " 7 5 8 7 1 4 4 2 2 9 1 0 2 3 4 4 9 1 3 4 4 8 2 3 0 0 8 5 2 8 6 9 3 4 7 3 8\n",
      " 4 2 6 5 2 0 8 1 4 2 6 6 7 5 9 7 0 0 1 1 8 4 6 1 9 9 2 3 3 9 8 4 9 6 1 4 5\n",
      " 8 2 5 8 1 8 7 2 2 6 9 1 6 8 5 0 5 4 6 1 8 0 4 6 6 3 5 5 3 1 8 1 9 2 0 4 6\n",
      " 7 0 4 9 3 8 2 0 8 6 3 9 3 8 1 8 9 8 4 9 4 3 3 0 3 2 2 8 4 7 0 7 1 3 7 9 9\n",
      " 0 3 4 5 4 7 5 8 1 3 9 6 1 6 5 0 3 2 6 2 2 4 8 7 6 4 6 0 1 0 5 7 6 3 2 1 8\n",
      " 5 1 2 6 7 4 8 0 2 0 0 9 7 3 1 4 0 6 2 7 4 9 0 8 4 6 1 2 3 5 1 8 2 1 2 4 6\n",
      " 2 9 6 2 7 4 8 2 6 7 7 9 3 1 6 6 5 4 0 8 4 4 1 4 6 9 0 1 7 7 2 6 5 6 3 4 3\n",
      " 7 2 0 4 7 8 4 3 9 4 8 4 0 0 3 6 3 2 2 8 1 6 3 2 9 7 5 5 4 9 5 6 0 9 0 2 4\n",
      " 0 6 0 6 2 6 4 3 8 8 0 4 8 3 8 8 3 1 9 2 7 8 8 0 3 0 6 0 6 1 0 7 8 0 6 6 6\n",
      " 2]\n"
     ]
    },
    {
     "data": {
      "text/plain": [
       "0.866"
      ]
     },
     "execution_count": 11,
     "metadata": {},
     "output_type": "execute_result"
    }
   ],
   "source": [
    "dev_predictions = make_predictions(x_dev, w1, b1, w2, b2) #Prediction on Entire Dataset\n",
    "get_accuracy(dev_predictions, y_dev) #Accuracy of prediction on entire dataset"
   ]
  }
 ],
 "metadata": {
  "kernelspec": {
   "display_name": "Python 3",
   "language": "python",
   "name": "python3"
  },
  "language_info": {
   "codemirror_mode": {
    "name": "ipython",
    "version": 3
   },
   "file_extension": ".py",
   "mimetype": "text/x-python",
   "name": "python",
   "nbconvert_exporter": "python",
   "pygments_lexer": "ipython3",
   "version": "3.10.12"
  },
  "papermill": {
   "default_parameters": {},
   "duration": 87.713556,
   "end_time": "2023-10-22T06:41:39.737271",
   "environment_variables": {},
   "exception": null,
   "input_path": "__notebook__.ipynb",
   "output_path": "__notebook__.ipynb",
   "parameters": {},
   "start_time": "2023-10-22T06:40:12.023715",
   "version": "2.4.0"
  }
 },
 "nbformat": 4,
 "nbformat_minor": 5
}
